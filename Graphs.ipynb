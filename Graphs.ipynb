{
 "cells": [
  {
   "cell_type": "code",
   "execution_count": null,
   "metadata": {},
   "outputs": [],
   "source": [
    "%matplotlib inline\n",
    "import matplotlib.pyplot as plt\n",
    "import pandas as pd\n",
    "import numpy as np\n",
    "import requests\n",
    "import time\n",
    "\n",
    "#import openweathermapy.core as owm\n",
    "# Import API key\n",
    "from config import api_key\n",
    "\n",
    "# Incorporated citipy to determine city based on latitude and longitude\n",
    "from citipy import citipy\n",
    "\n",
    "import matplotlib.pyplot as plt\n",
    "import mpld3\n",
    "mpld3.enable_notebook()\n",
    "\n",
    "filepath= 'citys.csv'\n",
    "data =  pd.read_csv(filepath, )\n",
    "data.head()\n"
   ]
  },
  {
   "cell_type": "code",
   "execution_count": null,
   "metadata": {},
   "outputs": [],
   "source": []
  },
  {
   "cell_type": "code",
   "execution_count": null,
   "metadata": {},
   "outputs": [],
   "source": [
    "import plotly\n",
    "import plotly.graph_objs as go\n"
   ]
  },
  {
   "cell_type": "code",
   "execution_count": null,
   "metadata": {},
   "outputs": [],
   "source": [
    "\n",
    "fig= go.Figure(data=go.Scatter(x = data['lat'],\n",
    "     y= data['temp max'],\n",
    "    mode = 'markers',\n",
    "    marker_color=data['temp max'],\n",
    "    showlegend = False\n",
    "                               \n",
    "))\n",
    "fig.update_layout(title='Max temperature vs Latitude',\n",
    "                  width=600,\n",
    "                  height=600,\n",
    "                  margin=go.layout.Margin(\n",
    "                      l=45,\n",
    "                      r=45,\n",
    "                      b=45,\n",
    "                      t=50,\n",
    "                      pad=1),\n",
    "                  \n",
    "                  yaxis=go.layout.YAxis(\n",
    "                      title_text=\"Temperature\"),\n",
    "                  xaxis=go.layout.XAxis(\n",
    "                      title_text=\"Latitude\"),\n",
    "                  paper_bgcolor=\"lightblue\"\n",
    "                 )\n",
    "\n",
    "fig.show()\n",
    "\n",
    "\n"
   ]
  },
  {
   "cell_type": "code",
   "execution_count": null,
   "metadata": {},
   "outputs": [],
   "source": []
  },
  {
   "cell_type": "code",
   "execution_count": null,
   "metadata": {},
   "outputs": [],
   "source": [
    "plotly.offline.plot(fig, filename='temp_max.html')"
   ]
  },
  {
   "cell_type": "code",
   "execution_count": null,
   "metadata": {},
   "outputs": [],
   "source": [
    "fig= go.Figure(data=go.Scatter(x = data['lat'],\n",
    "     y= data['Humidity'],\n",
    "    mode = 'markers',\n",
    "    marker_color=data['Humidity'],\n",
    "    showlegend = False\n",
    "                               \n",
    "))\n",
    "fig.update_layout(\n",
    "                  width=600,\n",
    "                  height=600,\n",
    "                  margin=go.layout.Margin(\n",
    "                      l=45,\n",
    "                      r=45,\n",
    "                      b=45,\n",
    "                      t=20,\n",
    "                      pad=1),\n",
    "                  \n",
    "                  yaxis=go.layout.YAxis(\n",
    "                      title_text=\"Humidity\"),\n",
    "                  xaxis=go.layout.XAxis(\n",
    "                      title_text=\"Latitude\"),\n",
    "                  paper_bgcolor=\"lightblue\"\n",
    "                 )\n",
    "\n",
    "fig.show()\n"
   ]
  },
  {
   "cell_type": "code",
   "execution_count": null,
   "metadata": {},
   "outputs": [],
   "source": [
    "plotly.offline.plot(fig, filename='Humidity.html')"
   ]
  },
  {
   "cell_type": "code",
   "execution_count": null,
   "metadata": {},
   "outputs": [],
   "source": [
    "fig= go.Figure(data=go.Scatter(x = data['lat'],\n",
    "     y= data['Cloudiness'],\n",
    "    mode = 'markers',\n",
    "    marker_color=data['Cloudiness'],\n",
    "    showlegend = False\n",
    "                               \n",
    "))\n",
    "fig.update_layout(\n",
    "                  width=600,\n",
    "                  height=600,\n",
    "                  margin=go.layout.Margin(\n",
    "                      l=45,\n",
    "                      r=45,\n",
    "                      b=45,\n",
    "                      t=20,\n",
    "                      pad=1),\n",
    "                  \n",
    "                  yaxis=go.layout.YAxis(\n",
    "                      title_text=\"Cloudiness\"),\n",
    "                  xaxis=go.layout.XAxis(\n",
    "                      title_text=\"Latitude\"),\n",
    "                  paper_bgcolor=\"lightblue\"\n",
    "                 )\n",
    "\n",
    "fig.show()\n"
   ]
  },
  {
   "cell_type": "code",
   "execution_count": null,
   "metadata": {},
   "outputs": [],
   "source": [
    "plotly.offline.plot(fig, filename='Cloudiness_plotly.html')  "
   ]
  },
  {
   "cell_type": "code",
   "execution_count": null,
   "metadata": {},
   "outputs": [],
   "source": [
    "fig= go.Figure(data=go.Scatter(x = data['lat'],\n",
    "     y= data['Wind Speed'],\n",
    "    mode = 'markers',\n",
    "    marker_color=data['Wind Speed'],\n",
    "    showlegend = False\n",
    "                               \n",
    "))\n",
    "fig.update_layout(\n",
    "                  width=600,\n",
    "                  height=600,\n",
    "                  margin=go.layout.Margin(\n",
    "                      l=45,\n",
    "                      r=45,\n",
    "                      b=45,\n",
    "                      t=20,\n",
    "                      pad=1),\n",
    "                  \n",
    "                  yaxis=go.layout.YAxis(\n",
    "                      title_text=\"Wind Speed\"),\n",
    "                  xaxis=go.layout.XAxis(\n",
    "                      title_text=\"Latitude\"),\n",
    "                  paper_bgcolor=\"lightblue\"\n",
    "                 )\n",
    "\n",
    "fig.show()\n"
   ]
  },
  {
   "cell_type": "code",
   "execution_count": null,
   "metadata": {},
   "outputs": [],
   "source": [
    "plotly.offline.plot(fig, filename='windspeed_plotly.html')  "
   ]
  },
  {
   "cell_type": "code",
   "execution_count": null,
   "metadata": {},
   "outputs": [],
   "source": [
    "fig= go.Figure(data=go.Scatter(x = data['lat'],\n",
    "     y= data['Wind Speed'],\n",
    "    mode = 'markers',\n",
    "    marker_color=data['Wind Speed'],\n",
    "    showlegend = False\n",
    "                               \n",
    "))\n",
    "fig.update_layout(\n",
    "                  width=600,\n",
    "                  height=600,\n",
    "                  margin=go.layout.Margin(\n",
    "                      l=45,\n",
    "                      r=45,\n",
    "                      b=45,\n",
    "                      t=20,\n",
    "                      pad=1),\n",
    "                  \n",
    "                  yaxis=go.layout.YAxis(\n",
    "                      title_text=\"Wind Speed\"),\n",
    "                  xaxis=go.layout.XAxis(\n",
    "                      title_text=\"Latitude\"),\n",
    "                  paper_bgcolor=\"lightblue\"\n",
    "                 )\n",
    "\n",
    "fig.show()\n"
   ]
  }
 ],
 "metadata": {
  "kernelspec": {
   "display_name": "Python 3",
   "language": "python",
   "name": "python3"
  },
  "language_info": {
   "codemirror_mode": {
    "name": "ipython",
    "version": 3
   },
   "file_extension": ".py",
   "mimetype": "text/x-python",
   "name": "python",
   "nbconvert_exporter": "python",
   "pygments_lexer": "ipython3",
   "version": "3.7.4"
  }
 },
 "nbformat": 4,
 "nbformat_minor": 2
}
