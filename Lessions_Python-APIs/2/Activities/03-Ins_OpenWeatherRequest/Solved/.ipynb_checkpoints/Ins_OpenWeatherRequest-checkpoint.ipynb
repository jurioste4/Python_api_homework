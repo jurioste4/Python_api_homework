{
 "cells": [
  {
   "cell_type": "code",
   "execution_count": 1,
   "metadata": {
    "collapsed": true
   },
   "outputs": [],
   "source": [
    "# Dependencies\n",
    "import json\n",
    "import requests\n",
    "from config import api_key"
   ]
  },
  {
   "cell_type": "code",
   "execution_count": 5,
   "metadata": {
    "collapsed": true
   },
   "outputs": [],
   "source": [
    "# Save config information\n",
    "url = \"http://api.openweathermap.org/data/2.5/weather?\"\n",
    "city = \"Houston\"\n",
    "\n",
    "# Build query URL\n",
    "query_url = url + \"appid=\" + api_key + \"&q=\" + city + \"&units=imperial\""
   ]
  },
  {
   "cell_type": "code",
   "execution_count": 6,
   "metadata": {},
   "outputs": [
    {
     "name": "stdout",
     "output_type": "stream",
     "text": [
      "The weather API responded with: {\n",
      "  \"coord\": {\n",
      "    \"lon\": -95.37,\n",
      "    \"lat\": 29.76\n",
      "  },\n",
      "  \"weather\": [\n",
      "    {\n",
      "      \"id\": 800,\n",
      "      \"main\": \"Clear\",\n",
      "      \"description\": \"clear sky\",\n",
      "      \"icon\": \"01n\"\n",
      "    }\n",
      "  ],\n",
      "  \"base\": \"stations\",\n",
      "  \"main\": {\n",
      "    \"temp\": 69.48,\n",
      "    \"pressure\": 1015,\n",
      "    \"humidity\": 54,\n",
      "    \"temp_min\": 66.99,\n",
      "    \"temp_max\": 72\n",
      "  },\n",
      "  \"visibility\": 16093,\n",
      "  \"wind\": {\n",
      "    \"speed\": 12.75,\n",
      "    \"deg\": 340,\n",
      "    \"gust\": 8.7\n",
      "  },\n",
      "  \"clouds\": {\n",
      "    \"all\": 1\n",
      "  },\n",
      "  \"dt\": 1552608344,\n",
      "  \"sys\": {\n",
      "    \"type\": 1,\n",
      "    \"id\": 4850,\n",
      "    \"message\": 0.0098,\n",
      "    \"country\": \"US\",\n",
      "    \"sunrise\": 1552653088,\n",
      "    \"sunset\": 1552696183\n",
      "  },\n",
      "  \"id\": 4699066,\n",
      "  \"name\": \"Houston\",\n",
      "  \"cod\": 200\n",
      "}.\n"
     ]
    }
   ],
   "source": [
    "# Get weather data\n",
    "weather_response = requests.get(query_url)\n",
    "weather_json = weather_response.json()\n",
    "\n",
    "# Get the temperature from the response\n",
    "print(f\"The weather API responded with: {json.dumps(weather_json, indent=2)}.\")"
   ]
  },
  {
   "cell_type": "code",
   "execution_count": null,
   "metadata": {},
   "outputs": [],
   "source": []
  }
 ],
 "metadata": {
  "kernelspec": {
   "display_name": "Python 3",
   "language": "python",
   "name": "python3"
  },
  "language_info": {
   "codemirror_mode": {
    "name": "ipython",
    "version": 3
   },
   "file_extension": ".py",
   "mimetype": "text/x-python",
   "name": "python",
   "nbconvert_exporter": "python",
   "pygments_lexer": "ipython3",
   "version": "3.7.1"
  },
  "varInspector": {
   "cols": {
    "lenName": 16,
    "lenType": 16,
    "lenVar": 40
   },
   "kernels_config": {
    "python": {
     "delete_cmd_postfix": "",
     "delete_cmd_prefix": "del ",
     "library": "var_list.py",
     "varRefreshCmd": "print(var_dic_list())"
    },
    "r": {
     "delete_cmd_postfix": ") ",
     "delete_cmd_prefix": "rm(",
     "library": "var_list.r",
     "varRefreshCmd": "cat(var_dic_list()) "
    }
   },
   "types_to_exclude": [
    "module",
    "function",
    "builtin_function_or_method",
    "instance",
    "_Feature"
   ],
   "window_display": false
  }
 },
 "nbformat": 4,
 "nbformat_minor": 2
}
