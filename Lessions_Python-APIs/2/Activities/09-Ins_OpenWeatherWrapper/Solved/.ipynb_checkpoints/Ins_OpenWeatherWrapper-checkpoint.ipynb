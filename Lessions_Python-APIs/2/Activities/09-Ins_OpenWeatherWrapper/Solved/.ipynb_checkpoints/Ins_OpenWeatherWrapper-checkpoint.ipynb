{
 "cells": [
  {
   "cell_type": "code",
   "execution_count": 3,
   "metadata": {
    "collapsed": true
   },
   "outputs": [],
   "source": [
    "# Dependencies\n",
    "import openweathermapy.core as owm\n",
    "\n",
    "#config\n",
    "from config import api_key"
   ]
  },
  {
   "cell_type": "code",
   "execution_count": 4,
   "metadata": {
    "collapsed": true
   },
   "outputs": [],
   "source": [
    "# Create settings dictionary with information we're interested in\n",
    "settings = {\n",
    "    \"units\": \"metric\",\n",
    "    \"appid\": api_key\n",
    "}"
   ]
  },
  {
   "cell_type": "code",
   "execution_count": 7,
   "metadata": {},
   "outputs": [
    {
     "data": {
      "text/plain": [
       "['BASE_URL',\n",
       " 'CITY_IDS',\n",
       " 'CONV',\n",
       " 'DataBlock',\n",
       " 'DataPoint',\n",
       " 'GetDecorator',\n",
       " 'ICON_URL',\n",
       " 'KASSEL_LATITUDE',\n",
       " 'KASSEL_LOC',\n",
       " 'KASSEL_LONGITUDE',\n",
       " '_DataPoint',\n",
       " '__author__',\n",
       " '__builtins__',\n",
       " '__cached__',\n",
       " '__doc__',\n",
       " '__file__',\n",
       " '__license__',\n",
       " '__loader__',\n",
       " '__name__',\n",
       " '__package__',\n",
       " '__spec__',\n",
       " '_get_forecast_hourly',\n",
       " '_get_history_from_station',\n",
       " 'datetime',\n",
       " 'find_cities_by_geo_coord',\n",
       " 'find_city',\n",
       " 'find_stations_by_geo_coord',\n",
       " 'functools',\n",
       " 'get',\n",
       " 'get_current',\n",
       " 'get_current_for_group',\n",
       " 'get_current_from_station',\n",
       " 'get_forecast_daily',\n",
       " 'get_forecast_hourly',\n",
       " 'get_history',\n",
       " 'get_history_from_station',\n",
       " 'json',\n",
       " 'utils',\n",
       " 'wrap_get']"
      ]
     },
     "execution_count": 7,
     "metadata": {},
     "output_type": "execute_result"
    }
   ],
   "source": [
    "dir(owm)"
   ]
  },
  {
   "cell_type": "code",
   "execution_count": 5,
   "metadata": {},
   "outputs": [
    {
     "name": "stdout",
     "output_type": "stream",
     "text": [
      "Current weather object for Paris: {'coord': {'lon': 2.35, 'lat': 48.86}, 'weather': [{'id': 310, 'main': 'Drizzle', 'description': 'light intensity drizzle rain', 'icon': '09n'}, {'id': 500, 'main': 'Rain', 'description': 'light rain', 'icon': '10n'}], 'base': 'stations', 'main': {'temp': 10.47, 'pressure': 1013, 'humidity': 93, 'temp_min': 10, 'temp_max': 11.11}, 'visibility': 7000, 'wind': {'speed': 5.1, 'deg': 250}, 'clouds': {'all': 90}, 'dt': 1552614140, 'sys': {'type': 1, 'id': 6540, 'message': 0.0047, 'country': 'FR', 'sunrise': 1552629880, 'sunset': 1552672518}, 'id': 2988507, 'name': 'Paris', 'cod': 200}.\n"
     ]
    }
   ],
   "source": [
    "# Get current weather\n",
    "current_weather_paris = owm.get_current(\"Paris\", **settings)\n",
    "# owm.get_current(\"Paris\", units=\"metric\", appid=api_key)\n",
    "print(f\"Current weather object for Paris: {current_weather_paris}.\")"
   ]
  },
  {
   "cell_type": "code",
   "execution_count": 14,
   "metadata": {},
   "outputs": [
    {
     "name": "stdout",
     "output_type": "stream",
     "text": [
      "The current weather summary for Paris is: ('Paris', 1013).\n"
     ]
    }
   ],
   "source": [
    "summary = [\"name\", \"main.pressure\"]\n",
    "\n",
    "data = current_weather_paris(*summary)\n",
    "print(f\"The current weather summary for Paris is: {data}.\")"
   ]
  },
  {
   "cell_type": "code",
   "execution_count": 9,
   "metadata": {},
   "outputs": [
    {
     "data": {
      "text/plain": [
       "('Paris', 10.47)"
      ]
     },
     "execution_count": 9,
     "metadata": {},
     "output_type": "execute_result"
    }
   ],
   "source": [
    "current_weather_paris(*summary)"
   ]
  },
  {
   "cell_type": "code",
   "execution_count": 11,
   "metadata": {},
   "outputs": [
    {
     "data": {
      "text/plain": [
       "10.47"
      ]
     },
     "execution_count": 11,
     "metadata": {},
     "output_type": "execute_result"
    }
   ],
   "source": [
    "current_weather_paris['main']['temp']"
   ]
  },
  {
   "cell_type": "code",
   "execution_count": 13,
   "metadata": {},
   "outputs": [
    {
     "data": {
      "text/plain": [
       "'Paris'"
      ]
     },
     "execution_count": 13,
     "metadata": {},
     "output_type": "execute_result"
    }
   ],
   "source": [
    "current_weather_paris['name']"
   ]
  },
  {
   "cell_type": "code",
   "execution_count": 12,
   "metadata": {},
   "outputs": [
    {
     "data": {
      "text/plain": [
       "{'coord': {'lon': 2.35, 'lat': 48.86},\n",
       " 'weather': [{'id': 310,\n",
       "   'main': 'Drizzle',\n",
       "   'description': 'light intensity drizzle rain',\n",
       "   'icon': '09n'},\n",
       "  {'id': 500, 'main': 'Rain', 'description': 'light rain', 'icon': '10n'}],\n",
       " 'base': 'stations',\n",
       " 'main': {'temp': 10.47,\n",
       "  'pressure': 1013,\n",
       "  'humidity': 93,\n",
       "  'temp_min': 10,\n",
       "  'temp_max': 11.11},\n",
       " 'visibility': 7000,\n",
       " 'wind': {'speed': 5.1, 'deg': 250},\n",
       " 'clouds': {'all': 90},\n",
       " 'dt': 1552614140,\n",
       " 'sys': {'type': 1,\n",
       "  'id': 6540,\n",
       "  'message': 0.0047,\n",
       "  'country': 'FR',\n",
       "  'sunrise': 1552629880,\n",
       "  'sunset': 1552672518},\n",
       " 'id': 2988507,\n",
       " 'name': 'Paris',\n",
       " 'cod': 200}"
      ]
     },
     "execution_count": 12,
     "metadata": {},
     "output_type": "execute_result"
    }
   ],
   "source": [
    "current_weather_paris"
   ]
  },
  {
   "cell_type": "code",
   "execution_count": null,
   "metadata": {},
   "outputs": [],
   "source": []
  }
 ],
 "metadata": {
  "kernelspec": {
   "display_name": "Python 3",
   "language": "python",
   "name": "python3"
  },
  "language_info": {
   "codemirror_mode": {
    "name": "ipython",
    "version": 3
   },
   "file_extension": ".py",
   "mimetype": "text/x-python",
   "name": "python",
   "nbconvert_exporter": "python",
   "pygments_lexer": "ipython3",
   "version": "3.7.1"
  },
  "varInspector": {
   "cols": {
    "lenName": 16,
    "lenType": 16,
    "lenVar": 40
   },
   "kernels_config": {
    "python": {
     "delete_cmd_postfix": "",
     "delete_cmd_prefix": "del ",
     "library": "var_list.py",
     "varRefreshCmd": "print(var_dic_list())"
    },
    "r": {
     "delete_cmd_postfix": ") ",
     "delete_cmd_prefix": "rm(",
     "library": "var_list.r",
     "varRefreshCmd": "cat(var_dic_list()) "
    }
   },
   "types_to_exclude": [
    "module",
    "function",
    "builtin_function_or_method",
    "instance",
    "_Feature"
   ],
   "window_display": false
  }
 },
 "nbformat": 4,
 "nbformat_minor": 2
}
