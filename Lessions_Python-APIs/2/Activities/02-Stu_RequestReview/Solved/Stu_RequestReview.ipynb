{
 "cells": [
  {
   "cell_type": "code",
   "execution_count": 1,
   "metadata": {
    "collapsed": true
   },
   "outputs": [],
   "source": [
    "# Dependencies\n",
    "import json\n",
    "import requests "
   ]
  },
  {
   "cell_type": "code",
   "execution_count": 2,
   "metadata": {},
   "outputs": [
    {
     "name": "stdout",
     "output_type": "stream",
     "text": [
      "200\n"
     ]
    }
   ],
   "source": [
    "# Specify the URL\n",
    "url = \"http://nyt-mongo-scraper.herokuapp.com/api/headlines\"\n",
    "\n",
    "# Make request and store response\n",
    "response = requests.get(url)\n",
    "\n",
    "# Print status code\n",
    "print(response.status_code)"
   ]
  },
  {
   "cell_type": "code",
   "execution_count": 3,
   "metadata": {
    "collapsed": true
   },
   "outputs": [],
   "source": [
    "# JSON-ify response\n",
    "response_json = response.json()"
   ]
  },
  {
   "cell_type": "code",
   "execution_count": 5,
   "metadata": {},
   "outputs": [
    {
     "data": {
      "text/plain": [
       "2"
      ]
     },
     "execution_count": 5,
     "metadata": {},
     "output_type": "execute_result"
    }
   ],
   "source": [
    "len(response_json)"
   ]
  },
  {
   "cell_type": "code",
   "execution_count": 6,
   "metadata": {},
   "outputs": [
    {
     "data": {
      "text/plain": [
       "[{'saved': True,\n",
       "  '_id': '5c8ae821e4a5e600146d7943',\n",
       "  'headline': 'Bribes and Big-Time Sports: U.S.C. Faces Scandal, Once AgainThe Coaches Connected to the Admissions Fraud Case',\n",
       "  'summary': 'Several current and former coaches, some with national titles and many with ties to U.S.C., were named in a federal indictment on Tuesday.',\n",
       "  'url': 'https://www.nytimes.com/2019/03/14/us/usc-college-cheating-scandal-bribes.html',\n",
       "  'date': '2019-03-14T23:47:45.447Z',\n",
       "  '__v': 0},\n",
       " {'saved': True,\n",
       "  '_id': '5c8ae821e4a5e600146d7942',\n",
       "  'headline': 'Senate Rejects Border Emergency Declaration. Trump Responds ‘Veto!’See how each senator voted.House Votes to Demand Public Release of Mueller Report',\n",
       "  'summary': 'Republicans joined Democrats, overwhelmingly pushing for access to the full findings by the special counsel, Robert S. Mueller III.',\n",
       "  'url': 'https://www.nytimes.com/2019/03/14/us/politics/senate-vote-trump-national-emergency.html',\n",
       "  'date': '2019-03-14T23:47:45.446Z',\n",
       "  '__v': 0}]"
      ]
     },
     "execution_count": 6,
     "metadata": {},
     "output_type": "execute_result"
    }
   ],
   "source": [
    "response_json"
   ]
  },
  {
   "cell_type": "code",
   "execution_count": 9,
   "metadata": {},
   "outputs": [
    {
     "name": "stdout",
     "output_type": "stream",
     "text": [
      "{'saved': True, '_id': '5c8ae821e4a5e600146d7943', 'headline': 'Bribes and Big-Time Sports: U.S.C. Faces Scandal, Once AgainThe Coaches Connected to the Admissions Fraud Case', 'summary': 'Several current and former coaches, some with national titles and many with ties to U.S.C., were named in a federal indictment on Tuesday.', 'url': 'https://www.nytimes.com/2019/03/14/us/usc-college-cheating-scandal-bribes.html', 'date': '2019-03-14T23:47:45.447Z', '__v': 0}\n"
     ]
    }
   ],
   "source": [
    "print(response_json[0])"
   ]
  },
  {
   "cell_type": "code",
   "execution_count": 7,
   "metadata": {
    "scrolled": true
   },
   "outputs": [
    {
     "name": "stdout",
     "output_type": "stream",
     "text": [
      "The first response is {\n",
      "    \"saved\": true,\n",
      "    \"_id\": \"5c8ae821e4a5e600146d7943\",\n",
      "    \"headline\": \"Bribes and Big-Time Sports: U.S.C. Faces Scandal, Once AgainThe Coaches Connected to the Admissions Fraud Case\",\n",
      "    \"summary\": \"Several current and former coaches, some with national titles and many with ties to U.S.C., were named in a federal indictment on Tuesday.\",\n",
      "    \"url\": \"https://www.nytimes.com/2019/03/14/us/usc-college-cheating-scandal-bribes.html\",\n",
      "    \"date\": \"2019-03-14T23:47:45.447Z\",\n",
      "    \"__v\": 0\n",
      "}.\n",
      "The last response is {\n",
      "  \"saved\": true,\n",
      "  \"_id\": \"5c8ae821e4a5e600146d7942\",\n",
      "  \"headline\": \"Senate Rejects Border Emergency Declaration. Trump Responds \\u2018Veto!\\u2019See how each senator voted.House Votes to Demand Public Release of Mueller Report\",\n",
      "  \"summary\": \"Republicans joined Democrats, overwhelmingly pushing for access to the full findings by the special counsel, Robert S. Mueller III.\",\n",
      "  \"url\": \"https://www.nytimes.com/2019/03/14/us/politics/senate-vote-trump-national-emergency.html\",\n",
      "  \"date\": \"2019-03-14T23:47:45.446Z\",\n",
      "  \"__v\": 0\n",
      "}.\n"
     ]
    }
   ],
   "source": [
    "# Print first and last articles\n",
    "print(f\"The first response is {json.dumps(response_json[0], indent=4)}.\")\n",
    "print(f\"The last response is {json.dumps(response_json[-1], indent=2)}.\")"
   ]
  },
  {
   "cell_type": "code",
   "execution_count": 8,
   "metadata": {},
   "outputs": [
    {
     "name": "stdout",
     "output_type": "stream",
     "text": [
      "We received 2 responses.\n"
     ]
    }
   ],
   "source": [
    "print(f\"We received {len(response_json)} responses.\")"
   ]
  },
  {
   "cell_type": "code",
   "execution_count": null,
   "metadata": {},
   "outputs": [],
   "source": []
  }
 ],
 "metadata": {
  "kernelspec": {
   "display_name": "Python 3",
   "language": "python",
   "name": "python3"
  },
  "language_info": {
   "codemirror_mode": {
    "name": "ipython",
    "version": 3
   },
   "file_extension": ".py",
   "mimetype": "text/x-python",
   "name": "python",
   "nbconvert_exporter": "python",
   "pygments_lexer": "ipython3",
   "version": "3.6.5"
  },
  "varInspector": {
   "cols": {
    "lenName": 16,
    "lenType": 16,
    "lenVar": 40
   },
   "kernels_config": {
    "python": {
     "delete_cmd_postfix": "",
     "delete_cmd_prefix": "del ",
     "library": "var_list.py",
     "varRefreshCmd": "print(var_dic_list())"
    },
    "r": {
     "delete_cmd_postfix": ") ",
     "delete_cmd_prefix": "rm(",
     "library": "var_list.r",
     "varRefreshCmd": "cat(var_dic_list()) "
    }
   },
   "types_to_exclude": [
    "module",
    "function",
    "builtin_function_or_method",
    "instance",
    "_Feature"
   ],
   "window_display": false
  }
 },
 "nbformat": 4,
 "nbformat_minor": 2
}
