{
 "cells": [
  {
   "cell_type": "code",
   "execution_count": 1,
   "metadata": {
    "collapsed": true
   },
   "outputs": [],
   "source": [
    "# Dependencies\n",
    "import random\n",
    "import json\n",
    "import requests"
   ]
  },
  {
   "cell_type": "code",
   "execution_count": 2,
   "metadata": {
    "collapsed": true
   },
   "outputs": [],
   "source": []
  },
  {
   "cell_type": "code",
   "execution_count": 3,
   "metadata": {
    "collapsed": true
   },
   "outputs": [],
   "source": [
    "# Create an empty list to store the responses\n",
    "response_json = []"
   ]
  },
  {
   "cell_type": "code",
   "execution_count": 4,
   "metadata": {},
   "outputs": [
    {
     "data": {
      "text/plain": [
       "[49, 34, 98, 52, 85, 90, 97, 6, 80, 91]"
      ]
     },
     "execution_count": 4,
     "metadata": {},
     "output_type": "execute_result"
    }
   ],
   "source": [
    "# Create random indices representing\n",
    "# a user's choice of posts\n",
    "indices = random.sample(list(range(1, 100)), 10)\n",
    "indices"
   ]
  },
  {
   "cell_type": "code",
   "execution_count": 10,
   "metadata": {},
   "outputs": [
    {
     "name": "stdout",
     "output_type": "stream",
     "text": [
      "Making request number: 0 for ID: 49\n",
      "Making request number: 1 for ID: 34\n",
      "Making request number: 2 for ID: 98\n",
      "Making request number: 3 for ID: 52\n",
      "Making request number: 4 for ID: 85\n",
      "Making request number: 5 for ID: 90\n",
      "Making request number: 6 for ID: 97\n",
      "Making request number: 7 for ID: 6\n",
      "Making request number: 8 for ID: 80\n",
      "Making request number: 9 for ID: 91\n"
     ]
    }
   ],
   "source": [
    "# Let's get the JSON for 100 posts sequentially.\n",
    "url = \"http://jsonplaceholder.typicode.com/posts/\"\n",
    "\n",
    "# Make a request for each of the indices\n",
    "for x in range(len(indices)):\n",
    "    print(f\"Making request number: {x} for ID: {indices[x]}\")\n",
    "\n",
    "    # Get one of the posts\n",
    "    post_response = requests.get(url + str(indices[x]))\n",
    "\n",
    "    # Save post's JSON\n",
    "    response_json.append(post_response.json())"
   ]
  },
  {
   "cell_type": "code",
   "execution_count": 11,
   "metadata": {},
   "outputs": [
    {
     "name": "stdout",
     "output_type": "stream",
     "text": [
      "We have 10 posts!\n"
     ]
    }
   ],
   "source": [
    "# Now we have 10 post objects, \n",
    "# which we got by making 100 requests to the API.\n",
    "print(f\"We have {len(response_json)} posts!\")"
   ]
  },
  {
   "cell_type": "code",
   "execution_count": 12,
   "metadata": {},
   "outputs": [
    {
     "data": {
      "text/plain": [
       "[{'userId': 5,\n",
       "  'id': 49,\n",
       "  'title': 'laborum non sunt aut ut assumenda perspiciatis voluptas',\n",
       "  'body': 'inventore ab sint\\nnatus fugit id nulla sequi architecto nihil quaerat\\neos tenetur in in eum veritatis non\\nquibusdam officiis aspernatur cumque aut commodi aut'},\n",
       " {'userId': 4,\n",
       "  'id': 34,\n",
       "  'title': 'magnam ut rerum iure',\n",
       "  'body': 'ea velit perferendis earum ut voluptatem voluptate itaque iusto\\ntotam pariatur in\\nnemo voluptatem voluptatem autem magni tempora minima in\\nest distinctio qui assumenda accusamus dignissimos officia nesciunt nobis'},\n",
       " {'userId': 10,\n",
       "  'id': 98,\n",
       "  'title': 'laboriosam dolor voluptates',\n",
       "  'body': 'doloremque ex facilis sit sint culpa\\nsoluta assumenda eligendi non ut eius\\nsequi ducimus vel quasi\\nveritatis est dolores'},\n",
       " {'userId': 6,\n",
       "  'id': 52,\n",
       "  'title': 'qui enim et consequuntur quia animi quis voluptate quibusdam',\n",
       "  'body': 'iusto est quibusdam fuga quas quaerat molestias\\na enim ut sit accusamus enim\\ntemporibus iusto accusantium provident architecto\\nsoluta esse reprehenderit qui laborum'},\n",
       " {'userId': 9,\n",
       "  'id': 85,\n",
       "  'title': 'dolore veritatis porro provident adipisci blanditiis et sunt',\n",
       "  'body': 'similique sed nisi voluptas iusto omnis\\nmollitia et quo\\nassumenda suscipit officia magnam sint sed tempora\\nenim provident pariatur praesentium atque animi amet ratione'},\n",
       " {'userId': 9,\n",
       "  'id': 90,\n",
       "  'title': 'ad iusto omnis odit dolor voluptatibus',\n",
       "  'body': 'minus omnis soluta quia\\nqui sed adipisci voluptates illum ipsam voluptatem\\neligendi officia ut in\\neos soluta similique molestias praesentium blanditiis'},\n",
       " {'userId': 10,\n",
       "  'id': 97,\n",
       "  'title': 'quas fugiat ut perspiciatis vero provident',\n",
       "  'body': 'eum non blanditiis soluta porro quibusdam voluptas\\nvel voluptatem qui placeat dolores qui velit aut\\nvel inventore aut cumque culpa explicabo aliquid at\\nperspiciatis est et voluptatem dignissimos dolor itaque sit nam'},\n",
       " {'userId': 1,\n",
       "  'id': 6,\n",
       "  'title': 'dolorem eum magni eos aperiam quia',\n",
       "  'body': 'ut aspernatur corporis harum nihil quis provident sequi\\nmollitia nobis aliquid molestiae\\nperspiciatis et ea nemo ab reprehenderit accusantium quas\\nvoluptate dolores velit et doloremque molestiae'},\n",
       " {'userId': 8,\n",
       "  'id': 80,\n",
       "  'title': 'labore in ex et explicabo corporis aut quas',\n",
       "  'body': 'ex quod dolorem ea eum iure qui provident amet\\nquia qui facere excepturi et repudiandae\\nasperiores molestias provident\\nminus incidunt vero fugit rerum sint sunt excepturi provident'},\n",
       " {'userId': 10,\n",
       "  'id': 91,\n",
       "  'title': 'aut amet sed',\n",
       "  'body': 'libero voluptate eveniet aperiam sed\\nsunt placeat suscipit molestias\\nsimilique fugit nam natus\\nexpedita consequatur consequatur dolores quia eos et placeat'}]"
      ]
     },
     "execution_count": 12,
     "metadata": {},
     "output_type": "execute_result"
    }
   ],
   "source": [
    "response_json"
   ]
  },
  {
   "cell_type": "code",
   "execution_count": 13,
   "metadata": {
    "collapsed": true
   },
   "outputs": [],
   "source": [
    "import pandas as pd"
   ]
  },
  {
   "cell_type": "code",
   "execution_count": 14,
   "metadata": {},
   "outputs": [],
   "source": [
    "df = pd.DataFrame(response_json)"
   ]
  },
  {
   "cell_type": "code",
   "execution_count": 16,
   "metadata": {},
   "outputs": [
    {
     "data": {
      "text/html": [
       "<div>\n",
       "<style scoped>\n",
       "    .dataframe tbody tr th:only-of-type {\n",
       "        vertical-align: middle;\n",
       "    }\n",
       "\n",
       "    .dataframe tbody tr th {\n",
       "        vertical-align: top;\n",
       "    }\n",
       "\n",
       "    .dataframe thead th {\n",
       "        text-align: right;\n",
       "    }\n",
       "</style>\n",
       "<table border=\"1\" class=\"dataframe\">\n",
       "  <thead>\n",
       "    <tr style=\"text-align: right;\">\n",
       "      <th></th>\n",
       "      <th>body</th>\n",
       "      <th>id</th>\n",
       "      <th>title</th>\n",
       "      <th>userId</th>\n",
       "    </tr>\n",
       "  </thead>\n",
       "  <tbody>\n",
       "    <tr>\n",
       "      <th>0</th>\n",
       "      <td>inventore ab sint\\nnatus fugit id nulla sequi ...</td>\n",
       "      <td>49</td>\n",
       "      <td>laborum non sunt aut ut assumenda perspiciatis...</td>\n",
       "      <td>5</td>\n",
       "    </tr>\n",
       "    <tr>\n",
       "      <th>1</th>\n",
       "      <td>ea velit perferendis earum ut voluptatem volup...</td>\n",
       "      <td>34</td>\n",
       "      <td>magnam ut rerum iure</td>\n",
       "      <td>4</td>\n",
       "    </tr>\n",
       "    <tr>\n",
       "      <th>2</th>\n",
       "      <td>doloremque ex facilis sit sint culpa\\nsoluta a...</td>\n",
       "      <td>98</td>\n",
       "      <td>laboriosam dolor voluptates</td>\n",
       "      <td>10</td>\n",
       "    </tr>\n",
       "    <tr>\n",
       "      <th>3</th>\n",
       "      <td>iusto est quibusdam fuga quas quaerat molestia...</td>\n",
       "      <td>52</td>\n",
       "      <td>qui enim et consequuntur quia animi quis volup...</td>\n",
       "      <td>6</td>\n",
       "    </tr>\n",
       "    <tr>\n",
       "      <th>4</th>\n",
       "      <td>similique sed nisi voluptas iusto omnis\\nmolli...</td>\n",
       "      <td>85</td>\n",
       "      <td>dolore veritatis porro provident adipisci blan...</td>\n",
       "      <td>9</td>\n",
       "    </tr>\n",
       "    <tr>\n",
       "      <th>5</th>\n",
       "      <td>minus omnis soluta quia\\nqui sed adipisci volu...</td>\n",
       "      <td>90</td>\n",
       "      <td>ad iusto omnis odit dolor voluptatibus</td>\n",
       "      <td>9</td>\n",
       "    </tr>\n",
       "    <tr>\n",
       "      <th>6</th>\n",
       "      <td>eum non blanditiis soluta porro quibusdam volu...</td>\n",
       "      <td>97</td>\n",
       "      <td>quas fugiat ut perspiciatis vero provident</td>\n",
       "      <td>10</td>\n",
       "    </tr>\n",
       "    <tr>\n",
       "      <th>7</th>\n",
       "      <td>ut aspernatur corporis harum nihil quis provid...</td>\n",
       "      <td>6</td>\n",
       "      <td>dolorem eum magni eos aperiam quia</td>\n",
       "      <td>1</td>\n",
       "    </tr>\n",
       "    <tr>\n",
       "      <th>8</th>\n",
       "      <td>ex quod dolorem ea eum iure qui provident amet...</td>\n",
       "      <td>80</td>\n",
       "      <td>labore in ex et explicabo corporis aut quas</td>\n",
       "      <td>8</td>\n",
       "    </tr>\n",
       "    <tr>\n",
       "      <th>9</th>\n",
       "      <td>libero voluptate eveniet aperiam sed\\nsunt pla...</td>\n",
       "      <td>91</td>\n",
       "      <td>aut amet sed</td>\n",
       "      <td>10</td>\n",
       "    </tr>\n",
       "  </tbody>\n",
       "</table>\n",
       "</div>"
      ],
      "text/plain": [
       "                                                body  id  \\\n",
       "0  inventore ab sint\\nnatus fugit id nulla sequi ...  49   \n",
       "1  ea velit perferendis earum ut voluptatem volup...  34   \n",
       "2  doloremque ex facilis sit sint culpa\\nsoluta a...  98   \n",
       "3  iusto est quibusdam fuga quas quaerat molestia...  52   \n",
       "4  similique sed nisi voluptas iusto omnis\\nmolli...  85   \n",
       "5  minus omnis soluta quia\\nqui sed adipisci volu...  90   \n",
       "6  eum non blanditiis soluta porro quibusdam volu...  97   \n",
       "7  ut aspernatur corporis harum nihil quis provid...   6   \n",
       "8  ex quod dolorem ea eum iure qui provident amet...  80   \n",
       "9  libero voluptate eveniet aperiam sed\\nsunt pla...  91   \n",
       "\n",
       "                                               title  userId  \n",
       "0  laborum non sunt aut ut assumenda perspiciatis...       5  \n",
       "1                               magnam ut rerum iure       4  \n",
       "2                        laboriosam dolor voluptates      10  \n",
       "3  qui enim et consequuntur quia animi quis volup...       6  \n",
       "4  dolore veritatis porro provident adipisci blan...       9  \n",
       "5             ad iusto omnis odit dolor voluptatibus       9  \n",
       "6         quas fugiat ut perspiciatis vero provident      10  \n",
       "7                 dolorem eum magni eos aperiam quia       1  \n",
       "8        labore in ex et explicabo corporis aut quas       8  \n",
       "9                                       aut amet sed      10  "
      ]
     },
     "execution_count": 16,
     "metadata": {},
     "output_type": "execute_result"
    }
   ],
   "source": [
    "df\n"
   ]
  },
  {
   "cell_type": "code",
   "execution_count": null,
   "metadata": {},
   "outputs": [],
   "source": []
  }
 ],
 "metadata": {
  "kernelspec": {
   "display_name": "Python 3",
   "language": "python",
   "name": "python3"
  },
  "language_info": {
   "codemirror_mode": {
    "name": "ipython",
    "version": 3
   },
   "file_extension": ".py",
   "mimetype": "text/x-python",
   "name": "python",
   "nbconvert_exporter": "python",
   "pygments_lexer": "ipython3",
   "version": "3.6.5"
  },
  "varInspector": {
   "cols": {
    "lenName": 16,
    "lenType": 16,
    "lenVar": 40
   },
   "kernels_config": {
    "python": {
     "delete_cmd_postfix": "",
     "delete_cmd_prefix": "del ",
     "library": "var_list.py",
     "varRefreshCmd": "print(var_dic_list())"
    },
    "r": {
     "delete_cmd_postfix": ") ",
     "delete_cmd_prefix": "rm(",
     "library": "var_list.r",
     "varRefreshCmd": "cat(var_dic_list()) "
    }
   },
   "types_to_exclude": [
    "module",
    "function",
    "builtin_function_or_method",
    "instance",
    "_Feature"
   ],
   "window_display": false
  }
 },
 "nbformat": 4,
 "nbformat_minor": 2
}
