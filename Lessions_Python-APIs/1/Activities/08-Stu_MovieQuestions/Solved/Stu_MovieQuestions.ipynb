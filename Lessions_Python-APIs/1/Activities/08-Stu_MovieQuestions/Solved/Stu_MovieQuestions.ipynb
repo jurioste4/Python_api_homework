{
 "cells": [
  {
   "cell_type": "code",
   "execution_count": 1,
   "metadata": {
    "collapsed": true
   },
   "outputs": [],
   "source": [
    "# Dependencies\n",
    "import requests\n",
    "\n",
    "url = \"http://www.omdbapi.com/?apikey=trilogy&t=\""
   ]
  },
  {
   "cell_type": "code",
   "execution_count": 2,
   "metadata": {},
   "outputs": [
    {
     "name": "stdout",
     "output_type": "stream",
     "text": [
      "The director of Aliens was James Cameron.\n"
     ]
    }
   ],
   "source": [
    "# Who was the director of the movie Aliens?\n",
    "movie = requests.get(url + \"Aliens\").json()\n",
    "print(f'The director of Aliens was {movie[\"Director\"]}.')"
   ]
  },
  {
   "cell_type": "code",
   "execution_count": 3,
   "metadata": {
    "scrolled": true
   },
   "outputs": [
    {
     "name": "stdout",
     "output_type": "stream",
     "text": [
      "The rating of Gladiator was R.\n"
     ]
    }
   ],
   "source": [
    "# What was the movie Gladiator rated?\n",
    "movie = requests.get(url + \"Gladiator\").json()\n",
    "print(f'The rating of Gladiator was {movie[\"Rated\"]}.')"
   ]
  },
  {
   "cell_type": "code",
   "execution_count": 4,
   "metadata": {},
   "outputs": [
    {
     "name": "stdout",
     "output_type": "stream",
     "text": [
      "The movie 50 First Dates was released in 1999.\n"
     ]
    }
   ],
   "source": [
    "# What year was 50 First Dates released?\n",
    "movie = requests.get(url + \"Runaway Bride\").json()\n",
    "print(f'The movie 50 First Dates was released in {movie[\"Year\"]}.')"
   ]
  },
  {
   "cell_type": "code",
   "execution_count": 7,
   "metadata": {
    "scrolled": true
   },
   "outputs": [
    {
     "name": "stdout",
     "output_type": "stream",
     "text": [
      "Moana was written by Jared Bush (screenplay by), Ron Clements (story by), John Musker (story by), Chris Williams (story by), Don Hall (story by), Pamela Ribon (story by), Aaron Kandell (story by), Jordan Kandell (story by).\n"
     ]
    }
   ],
   "source": [
    "# Who wrote Moana?\n",
    "movie = requests.get(url + \"Moana\").json()\n",
    "print(f'Moana was written by {movie[\"Writer\"]}.')"
   ]
  },
  {
   "cell_type": "code",
   "execution_count": 8,
   "metadata": {},
   "outputs": [
    {
     "data": {
      "text/plain": [
       "{'Title': 'Moana',\n",
       " 'Year': '2016',\n",
       " 'Rated': 'PG',\n",
       " 'Released': '23 Nov 2016',\n",
       " 'Runtime': '107 min',\n",
       " 'Genre': 'Animation, Adventure, Comedy, Family, Fantasy, Musical',\n",
       " 'Director': 'Ron Clements, John Musker, Don Hall(co-director), Chris Williams(co-director)',\n",
       " 'Writer': 'Jared Bush (screenplay by), Ron Clements (story by), John Musker (story by), Chris Williams (story by), Don Hall (story by), Pamela Ribon (story by), Aaron Kandell (story by), Jordan Kandell (story by)',\n",
       " 'Actors': \"Auli'i Cravalho, Dwayne Johnson, Rachel House, Temuera Morrison\",\n",
       " 'Plot': \"In Ancient Polynesia, when a terrible curse incurred by the Demigod Maui reaches Moana's island, she answers the Ocean's call to seek out the Demigod to set things right.\",\n",
       " 'Language': 'English',\n",
       " 'Country': 'USA',\n",
       " 'Awards': 'Nominated for 2 Oscars. Another 18 wins & 83 nominations.',\n",
       " 'Poster': 'https://m.media-amazon.com/images/M/MV5BMjI4MzU5NTExNF5BMl5BanBnXkFtZTgwNzY1MTEwMDI@._V1_SX300.jpg',\n",
       " 'Ratings': [{'Source': 'Internet Movie Database', 'Value': '7.6/10'},\n",
       "  {'Source': 'Rotten Tomatoes', 'Value': '95%'},\n",
       "  {'Source': 'Metacritic', 'Value': '81/100'}],\n",
       " 'Metascore': '81',\n",
       " 'imdbRating': '7.6',\n",
       " 'imdbVotes': '216,358',\n",
       " 'imdbID': 'tt3521164',\n",
       " 'Type': 'movie',\n",
       " 'DVD': '07 Mar 2017',\n",
       " 'BoxOffice': '$248,752,120',\n",
       " 'Production': 'Walt Disney Pictures',\n",
       " 'Website': 'http://movies.disney.com/moana',\n",
       " 'Response': 'True'}"
      ]
     },
     "execution_count": 8,
     "metadata": {},
     "output_type": "execute_result"
    }
   ],
   "source": [
    "movie"
   ]
  },
  {
   "cell_type": "code",
   "execution_count": 10,
   "metadata": {
    "scrolled": true
   },
   "outputs": [
    {
     "name": "stdout",
     "output_type": "stream",
     "text": [
      "The plot of Sing was: An alien on the run from his own people makes friends with a girl. He tries to help her on her quest, but can be an interference.\n"
     ]
    }
   ],
   "source": [
    "# What was the plot of the movie Sing?\n",
    "movie = requests.get(url + \"Home\").json()\n",
    "print(f'The plot of Sing was: {movie[\"Plot\"]}')"
   ]
  },
  {
   "cell_type": "code",
   "execution_count": null,
   "metadata": {},
   "outputs": [],
   "source": []
  }
 ],
 "metadata": {
  "kernelspec": {
   "display_name": "Python 3",
   "language": "python",
   "name": "python3"
  },
  "language_info": {
   "codemirror_mode": {
    "name": "ipython",
    "version": 3
   },
   "file_extension": ".py",
   "mimetype": "text/x-python",
   "name": "python",
   "nbconvert_exporter": "python",
   "pygments_lexer": "ipython3",
   "version": "3.6.5"
  },
  "varInspector": {
   "cols": {
    "lenName": 16,
    "lenType": 16,
    "lenVar": 40
   },
   "kernels_config": {
    "python": {
     "delete_cmd_postfix": "",
     "delete_cmd_prefix": "del ",
     "library": "var_list.py",
     "varRefreshCmd": "print(var_dic_list())"
    },
    "r": {
     "delete_cmd_postfix": ") ",
     "delete_cmd_prefix": "rm(",
     "library": "var_list.r",
     "varRefreshCmd": "cat(var_dic_list()) "
    }
   },
   "types_to_exclude": [
    "module",
    "function",
    "builtin_function_or_method",
    "instance",
    "_Feature"
   ],
   "window_display": false
  }
 },
 "nbformat": 4,
 "nbformat_minor": 2
}
